{
 "cells": [
  {
   "cell_type": "code",
   "execution_count": 5,
   "metadata": {},
   "outputs": [],
   "source": [
    "import cv2 as cv\n",
    "import numpy as np\n",
    "from flask import Flask,render_template \n",
    "from keras import models "
   ]
  },
  {
   "cell_type": "code",
   "execution_count": 7,
   "metadata": {},
   "outputs": [
    {
     "name": "stdout",
     "output_type": "stream",
     "text": [
      "WARNING:tensorflow:From C:\\Users\\ajay\\Anaconda3\\lib\\site-packages\\tensorflow\\python\\framework\\op_def_library.py:263: colocate_with (from tensorflow.python.framework.ops) is deprecated and will be removed in a future version.\n",
      "Instructions for updating:\n",
      "Colocations handled automatically by placer.\n",
      "WARNING:tensorflow:From C:\\Users\\ajay\\Anaconda3\\lib\\site-packages\\tensorflow\\python\\ops\\math_ops.py:3066: to_int32 (from tensorflow.python.ops.math_ops) is deprecated and will be removed in a future version.\n",
      "Instructions for updating:\n",
      "Use tf.cast instead.\n"
     ]
    }
   ],
   "source": [
    "model=models.load_model('face_mask_detector_model.h5')"
   ]
  },
  {
   "cell_type": "code",
   "execution_count": 8,
   "metadata": {},
   "outputs": [],
   "source": [
    "label={0:'mask',1:'no mask'}\n",
    "face_classifier=cv.CascadeClassifier('Haarcascades/haarcascade_frontalface_default.xml')"
   ]
  },
  {
   "cell_type": "code",
   "execution_count": null,
   "metadata": {},
   "outputs": [
    {
     "name": "stdout",
     "output_type": "stream",
     "text": [
      " * Serving Flask app \"__main__\" (lazy loading)\n",
      " * Environment: production\n",
      "   WARNING: Do not use the development server in a production environment.\n",
      "   Use a production WSGI server instead.\n",
      " * Debug mode: off\n"
     ]
    },
    {
     "name": "stderr",
     "output_type": "stream",
     "text": [
      " * Running on http://127.0.0.1:5000/ (Press CTRL+C to quit)\n",
      "127.0.0.1 - - [23/Oct/2020 00:28:24] \"\u001b[37mGET / HTTP/1.1\u001b[0m\" 200 -\n",
      "[2020-10-23 00:28:41,716] ERROR in app: Exception on /prediction [GET]\n",
      "Traceback (most recent call last):\n",
      "  File \"C:\\Users\\ajay\\Anaconda3\\lib\\site-packages\\flask\\app.py\", line 2292, in wsgi_app\n",
      "    response = self.full_dispatch_request()\n",
      "  File \"C:\\Users\\ajay\\Anaconda3\\lib\\site-packages\\flask\\app.py\", line 1815, in full_dispatch_request\n",
      "    rv = self.handle_user_exception(e)\n",
      "  File \"C:\\Users\\ajay\\Anaconda3\\lib\\site-packages\\flask\\app.py\", line 1718, in handle_user_exception\n",
      "    reraise(exc_type, exc_value, tb)\n",
      "  File \"C:\\Users\\ajay\\Anaconda3\\lib\\site-packages\\flask\\_compat.py\", line 35, in reraise\n",
      "    raise value\n",
      "  File \"C:\\Users\\ajay\\Anaconda3\\lib\\site-packages\\flask\\app.py\", line 1813, in full_dispatch_request\n",
      "    rv = self.dispatch_request()\n",
      "  File \"C:\\Users\\ajay\\Anaconda3\\lib\\site-packages\\flask\\app.py\", line 1799, in dispatch_request\n",
      "    return self.view_functions[rule.endpoint](**req.view_args)\n",
      "  File \"<ipython-input-10-826eb30e5abc>\", line 29, in pre\n",
      "    cv.imshow('live mask prediction',detect1(frame))\n",
      "  File \"<ipython-input-10-826eb30e5abc>\", line 9, in detect1\n",
      "    pred=model.predict(resized)\n",
      "  File \"C:\\Users\\ajay\\Anaconda3\\lib\\site-packages\\keras\\engine\\training.py\", line 1164, in predict\n",
      "    self._make_predict_function()\n",
      "  File \"C:\\Users\\ajay\\Anaconda3\\lib\\site-packages\\keras\\engine\\training.py\", line 554, in _make_predict_function\n",
      "    **kwargs)\n",
      "  File \"C:\\Users\\ajay\\Anaconda3\\lib\\site-packages\\keras\\backend\\tensorflow_backend.py\", line 2744, in function\n",
      "    return Function(inputs, outputs, updates=updates, **kwargs)\n",
      "  File \"C:\\Users\\ajay\\Anaconda3\\lib\\site-packages\\keras\\backend\\tensorflow_backend.py\", line 2546, in __init__\n",
      "    with tf.control_dependencies(self.outputs):\n",
      "  File \"C:\\Users\\ajay\\Anaconda3\\lib\\site-packages\\tensorflow\\python\\framework\\ops.py\", line 5028, in control_dependencies\n",
      "    return get_default_graph().control_dependencies(control_inputs)\n",
      "  File \"C:\\Users\\ajay\\Anaconda3\\lib\\site-packages\\tensorflow\\python\\framework\\ops.py\", line 4528, in control_dependencies\n",
      "    c = self.as_graph_element(c)\n",
      "  File \"C:\\Users\\ajay\\Anaconda3\\lib\\site-packages\\tensorflow\\python\\framework\\ops.py\", line 3478, in as_graph_element\n",
      "    return self._as_graph_element_locked(obj, allow_tensor, allow_operation)\n",
      "  File \"C:\\Users\\ajay\\Anaconda3\\lib\\site-packages\\tensorflow\\python\\framework\\ops.py\", line 3557, in _as_graph_element_locked\n",
      "    raise ValueError(\"Tensor %s is not an element of this graph.\" % obj)\n",
      "ValueError: Tensor Tensor(\"dense_4/Softmax:0\", shape=(?, 2), dtype=float32) is not an element of this graph.\n",
      "127.0.0.1 - - [23/Oct/2020 00:28:41] \"\u001b[1m\u001b[35mGET /prediction HTTP/1.1\u001b[0m\" 500 -\n"
     ]
    }
   ],
   "source": [
    "def detect1(frame):\n",
    "    gray=cv.cvtColor(frame,cv.COLOR_BGR2GRAY)\n",
    "    faces=face_classifier.detectMultiScale(gray,1.2)\n",
    "    for a,b,c,d in faces:\n",
    "        crop=frame[b:b+d,a:a+c]\n",
    "        resized=cv.resize(crop,(224,224))\n",
    "        resized=resized/255.0\n",
    "        resized=np.expand_dims(resized,axis=0)\n",
    "        pred=model.predict(resized)\n",
    "        prediction=np.argmax(pred,axis=1)[0]\n",
    "        pct=str(int(np.max(pred,axis=1)[0]*100))\n",
    "        if prediction==0:\n",
    "            cv.rectangle(frame,(a,b),(a+c,b+d),(0,255,0),3)\n",
    "            cv.putText(frame,label[0]+pct+'%',(a,b-10),cv.FONT_HERSHEY_SIMPLEX,.8,(0,255,0),2)\n",
    "        else:\n",
    "            cv.rectangle(frame,(a,b),(a+c,b+d),(0,0,255),3)\n",
    "            cv.putText(frame,label[1]+pct+'%',(a,b-10),cv.FONT_HERSHEY_SIMPLEX,.8,(0,0,255),2)\n",
    "    return frame\n",
    "            \n",
    "app=Flask(__name__,template_folder='template')\n",
    "@app.route('/')\n",
    "def index():\n",
    "    return render_template('index.html')\n",
    "@app.route('/prediction',methods=['POST','GET'])\n",
    "def pre():\n",
    "    c=cv.VideoCapture(0)\n",
    "    while True:\n",
    "        ret,frame=c.read()\n",
    "        cv.imshow('live mask prediction',detect1(frame))\n",
    "        if cv.waitKey(1)==13:\n",
    "            break        \n",
    "    c.release()\n",
    "    cv.destroyAllWindows()\n",
    "    return render_template('index.html')\n",
    "    \n",
    "    \n",
    "    \n",
    "    \n",
    "app.run()"
   ]
  },
  {
   "cell_type": "code",
   "execution_count": null,
   "metadata": {},
   "outputs": [],
   "source": []
  }
 ],
 "metadata": {
  "kernelspec": {
   "display_name": "Python 3",
   "language": "python",
   "name": "python3"
  },
  "language_info": {
   "codemirror_mode": {
    "name": "ipython",
    "version": 3
   },
   "file_extension": ".py",
   "mimetype": "text/x-python",
   "name": "python",
   "nbconvert_exporter": "python",
   "pygments_lexer": "ipython3",
   "version": "3.7.1"
  }
 },
 "nbformat": 4,
 "nbformat_minor": 2
}
